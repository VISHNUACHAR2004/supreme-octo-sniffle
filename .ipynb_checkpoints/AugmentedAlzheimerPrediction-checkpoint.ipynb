{
 "cells": [
  {
   "cell_type": "code",
   "execution_count": 11,
   "id": "e5e53ca8-1b82-41df-9ed0-9d741febce3d",
   "metadata": {},
   "outputs": [],
   "source": [
    "import tensorflow as tf\n",
    "from tensorflow.keras.preprocessing.image import ImageDataGenerator"
   ]
  },
  {
   "cell_type": "code",
   "execution_count": 13,
   "id": "8f08c87e-015b-4882-adc5-c84e16ddea14",
   "metadata": {},
   "outputs": [
    {
     "data": {
      "text/plain": [
       "'2.18.0'"
      ]
     },
     "execution_count": 13,
     "metadata": {},
     "output_type": "execute_result"
    }
   ],
   "source": [
    "tf.__version__"
   ]
  },
  {
   "cell_type": "code",
   "execution_count": 15,
   "id": "7837fdb5-991b-4447-a247-359fbf47ed53",
   "metadata": {},
   "outputs": [
    {
     "name": "stdout",
     "output_type": "stream",
     "text": [
      "True\n"
     ]
    },
    {
     "name": "stderr",
     "output_type": "stream",
     "text": [
      "<>:2: SyntaxWarning: invalid escape sequence '\\p'\n",
      "<>:2: SyntaxWarning: invalid escape sequence '\\p'\n",
      "C:\\Users\\vishn\\AppData\\Local\\Temp\\ipykernel_20744\\2518145366.py:2: SyntaxWarning: invalid escape sequence '\\p'\n",
      "  print(os.path.exists(\"V:\\projects\\AlzheimerDiseaseClassification\\AugmentedAlzheimerDataset\"))\n"
     ]
    }
   ],
   "source": [
    "import os\n",
    "print(os.path.exists(\"V:\\projects\\AlzheimerDiseaseClassification\\AugmentedAlzheimerDataset\"))\n"
   ]
  },
  {
   "cell_type": "code",
   "execution_count": 17,
   "id": "060ba80e-aeea-409c-876a-5d177a7a8ec8",
   "metadata": {},
   "outputs": [
    {
     "name": "stderr",
     "output_type": "stream",
     "text": [
      "<>:8: SyntaxWarning: invalid escape sequence '\\p'\n",
      "<>:8: SyntaxWarning: invalid escape sequence '\\p'\n",
      "C:\\Users\\vishn\\AppData\\Local\\Temp\\ipykernel_20744\\3060759790.py:8: SyntaxWarning: invalid escape sequence '\\p'\n",
      "  \"V:\\projects\\AlzheimerDiseaseClassification\\AugmentedAlzheimerDataset\",\n"
     ]
    },
    {
     "name": "stdout",
     "output_type": "stream",
     "text": [
      "Found 33984 images belonging to 4 classes.\n"
     ]
    }
   ],
   "source": [
    "train_datagen=ImageDataGenerator(\n",
    "    rescale=1./255,\n",
    "    shear_range=0.2,\n",
    "    zoom_range=0.2,\n",
    "    horizontal_flip=True\n",
    ")\n",
    "training_set=train_datagen.flow_from_directory(\n",
    "    \"V:\\projects\\AlzheimerDiseaseClassification\\AugmentedAlzheimerDataset\",\n",
    "    target_size=(128,128),\n",
    "    batch_size=60,\n",
    "    class_mode='categorical'\n",
    ")"
   ]
  },
  {
   "cell_type": "code",
   "execution_count": 31,
   "id": "1615363b-90ff-4acb-91c3-a30e22c8c735",
   "metadata": {},
   "outputs": [
    {
     "data": {
      "text/plain": [
       "{'MildDemented': 0,\n",
       " 'ModerateDemented': 1,\n",
       " 'NonDemented': 2,\n",
       " 'VeryMildDemented': 3}"
      ]
     },
     "execution_count": 31,
     "metadata": {},
     "output_type": "execute_result"
    }
   ],
   "source": [
    "training_set.class_indices"
   ]
  },
  {
   "cell_type": "code",
   "execution_count": 19,
   "id": "0de30b75-37f9-4b70-b57b-9d8ee4c1f433",
   "metadata": {},
   "outputs": [
    {
     "name": "stderr",
     "output_type": "stream",
     "text": [
      "<>:4: SyntaxWarning: invalid escape sequence '\\p'\n",
      "<>:4: SyntaxWarning: invalid escape sequence '\\p'\n",
      "C:\\Users\\vishn\\AppData\\Local\\Temp\\ipykernel_20744\\2488745249.py:4: SyntaxWarning: invalid escape sequence '\\p'\n",
      "  \"V:\\projects\\AlzheimerDiseaseClassification\\OriginalDataset\" ,\n"
     ]
    },
    {
     "name": "stdout",
     "output_type": "stream",
     "text": [
      "Found 6396 images belonging to 4 classes.\n"
     ]
    }
   ],
   "source": [
    "#preprocessing the test set\n",
    "test_datagen=ImageDataGenerator(rescale=1./255)\n",
    "test_set=test_datagen.flow_from_directory(\n",
    "  \"V:\\projects\\AlzheimerDiseaseClassification\\OriginalDataset\" ,\n",
    "    target_size=(128,128),\n",
    "    batch_size=60,\n",
    "    class_mode='categorical'\n",
    ")"
   ]
  },
  {
   "cell_type": "code",
   "execution_count": 35,
   "id": "dc4b2aac-d348-4616-85aa-d15405573ee7",
   "metadata": {},
   "outputs": [
    {
     "data": {
      "text/plain": [
       "{'MildDemented': 0,\n",
       " 'ModerateDemented': 1,\n",
       " 'NonDemented': 2,\n",
       " 'VeryMildDemented': 3}"
      ]
     },
     "execution_count": 35,
     "metadata": {},
     "output_type": "execute_result"
    }
   ],
   "source": [
    "test_set.class_indices"
   ]
  },
  {
   "cell_type": "code",
   "execution_count": 39,
   "id": "826764b9-cc72-4055-a3a2-4ee807804b8c",
   "metadata": {},
   "outputs": [],
   "source": [
    "#building the CNN\n",
    "cnn=tf.keras.models.Sequential()"
   ]
  },
  {
   "cell_type": "code",
   "execution_count": 41,
   "id": "0392a54c-7395-48c1-8884-3c9bbee8de38",
   "metadata": {},
   "outputs": [],
   "source": [
    "#Step1: Convolution\n",
    "cnn.add(tf.keras.layers.Conv2D(filters=32,kernel_size=5,activation='relu',input_shape=[128,128,3]))\n",
    "#step2: Pooling\n",
    "cnn.add(tf.keras.layers.MaxPool2D(pool_size=3,strides=2))"
   ]
  },
  {
   "cell_type": "code",
   "execution_count": 43,
   "id": "6faa1ac3-1fec-452d-8726-182d7f762053",
   "metadata": {},
   "outputs": [],
   "source": [
    "#adding second layer\n",
    "#Step1: Convolution\n",
    "cnn.add(tf.keras.layers.Conv2D(filters=60,kernel_size=5,activation='relu'))\n",
    "#step2: Pooling\n",
    "cnn.add(tf.keras.layers.MaxPool2D(pool_size=3,strides=2))"
   ]
  },
  {
   "cell_type": "code",
   "execution_count": 45,
   "id": "ee9d9663-7537-4b48-810d-18ba23e7ea9f",
   "metadata": {},
   "outputs": [],
   "source": [
    "#step3: Flattening\n",
    "cnn.add(tf.keras.layers.Flatten())"
   ]
  },
  {
   "cell_type": "code",
   "execution_count": 47,
   "id": "54401088-7b38-447d-b51a-df2d16418ae9",
   "metadata": {},
   "outputs": [],
   "source": [
    "#step4: Full connection\n",
    "cnn.add(tf.keras.layers.Dense(units=128,activation='relu'))"
   ]
  },
  {
   "cell_type": "code",
   "execution_count": 49,
   "id": "94e99774-56d1-465f-a040-0057bc423c63",
   "metadata": {},
   "outputs": [],
   "source": [
    "#step5: output layer\n",
    "cnn.add(tf.keras.layers.Dense(units=4,activation='softmax'))"
   ]
  },
  {
   "cell_type": "code",
   "execution_count": 51,
   "id": "594bab85-2507-4cc8-bda1-8488ae4e6420",
   "metadata": {},
   "outputs": [],
   "source": [
    "#Part2: training the CNN"
   ]
  },
  {
   "cell_type": "code",
   "execution_count": 53,
   "id": "5a0656ea-ca20-4119-94d3-4d16fbeeb718",
   "metadata": {},
   "outputs": [],
   "source": [
    "#compiling the cnn\n",
    "cnn.compile(optimizer='adam',loss='categorical_crossentropy',metrics=['accuracy'])"
   ]
  },
  {
   "cell_type": "code",
   "execution_count": 55,
   "id": "11a70003-9f21-40b3-8000-be584c248655",
   "metadata": {},
   "outputs": [
    {
     "name": "stderr",
     "output_type": "stream",
     "text": [
      "V:\\anaconda\\Lib\\site-packages\\keras\\src\\trainers\\data_adapters\\py_dataset_adapter.py:121: UserWarning: Your `PyDataset` class should call `super().__init__(**kwargs)` in its constructor. `**kwargs` can include `workers`, `use_multiprocessing`, `max_queue_size`. Do not pass these arguments to `fit()`, as they will be ignored.\n",
      "  self._warn_if_super_not_called()\n"
     ]
    },
    {
     "name": "stdout",
     "output_type": "stream",
     "text": [
      "Epoch 1/25\n",
      "\u001b[1m567/567\u001b[0m \u001b[32m━━━━━━━━━━━━━━━━━━━━\u001b[0m\u001b[37m\u001b[0m \u001b[1m0s\u001b[0m 691ms/step - accuracy: 0.4361 - loss: 1.2412"
     ]
    },
    {
     "name": "stderr",
     "output_type": "stream",
     "text": [
      "V:\\anaconda\\Lib\\site-packages\\keras\\src\\trainers\\data_adapters\\py_dataset_adapter.py:121: UserWarning: Your `PyDataset` class should call `super().__init__(**kwargs)` in its constructor. `**kwargs` can include `workers`, `use_multiprocessing`, `max_queue_size`. Do not pass these arguments to `fit()`, as they will be ignored.\n",
      "  self._warn_if_super_not_called()\n"
     ]
    },
    {
     "name": "stdout",
     "output_type": "stream",
     "text": [
      "\u001b[1m567/567\u001b[0m \u001b[32m━━━━━━━━━━━━━━━━━━━━\u001b[0m\u001b[37m\u001b[0m \u001b[1m426s\u001b[0m 748ms/step - accuracy: 0.4363 - loss: 1.2408 - val_accuracy: 0.5549 - val_loss: 0.8731\n",
      "Epoch 2/25\n",
      "\u001b[1m567/567\u001b[0m \u001b[32m━━━━━━━━━━━━━━━━━━━━\u001b[0m\u001b[37m\u001b[0m \u001b[1m547s\u001b[0m 965ms/step - accuracy: 0.6505 - loss: 0.7555 - val_accuracy: 0.6592 - val_loss: 0.7000\n",
      "Epoch 3/25\n",
      "\u001b[1m567/567\u001b[0m \u001b[32m━━━━━━━━━━━━━━━━━━━━\u001b[0m\u001b[37m\u001b[0m \u001b[1m601s\u001b[0m 1s/step - accuracy: 0.6860 - loss: 0.6853 - val_accuracy: 0.7084 - val_loss: 0.6184\n",
      "Epoch 4/25\n",
      "\u001b[1m567/567\u001b[0m \u001b[32m━━━━━━━━━━━━━━━━━━━━\u001b[0m\u001b[37m\u001b[0m \u001b[1m536s\u001b[0m 944ms/step - accuracy: 0.7107 - loss: 0.6357 - val_accuracy: 0.7581 - val_loss: 0.5198\n",
      "Epoch 5/25\n",
      "\u001b[1m567/567\u001b[0m \u001b[32m━━━━━━━━━━━━━━━━━━━━\u001b[0m\u001b[37m\u001b[0m \u001b[1m529s\u001b[0m 933ms/step - accuracy: 0.7426 - loss: 0.5796 - val_accuracy: 0.7739 - val_loss: 0.4810\n",
      "Epoch 6/25\n",
      "\u001b[1m567/567\u001b[0m \u001b[32m━━━━━━━━━━━━━━━━━━━━\u001b[0m\u001b[37m\u001b[0m \u001b[1m509s\u001b[0m 898ms/step - accuracy: 0.7642 - loss: 0.5385 - val_accuracy: 0.7952 - val_loss: 0.4344\n",
      "Epoch 7/25\n",
      "\u001b[1m567/567\u001b[0m \u001b[32m━━━━━━━━━━━━━━━━━━━━\u001b[0m\u001b[37m\u001b[0m \u001b[1m521s\u001b[0m 919ms/step - accuracy: 0.7803 - loss: 0.4977 - val_accuracy: 0.7588 - val_loss: 0.5571\n",
      "Epoch 8/25\n",
      "\u001b[1m567/567\u001b[0m \u001b[32m━━━━━━━━━━━━━━━━━━━━\u001b[0m\u001b[37m\u001b[0m \u001b[1m437s\u001b[0m 770ms/step - accuracy: 0.8012 - loss: 0.4631 - val_accuracy: 0.8594 - val_loss: 0.3411\n",
      "Epoch 9/25\n",
      "\u001b[1m567/567\u001b[0m \u001b[32m━━━━━━━━━━━━━━━━━━━━\u001b[0m\u001b[37m\u001b[0m \u001b[1m310s\u001b[0m 547ms/step - accuracy: 0.8104 - loss: 0.4397 - val_accuracy: 0.8726 - val_loss: 0.3075\n",
      "Epoch 10/25\n",
      "\u001b[1m567/567\u001b[0m \u001b[32m━━━━━━━━━━━━━━━━━━━━\u001b[0m\u001b[37m\u001b[0m \u001b[1m525s\u001b[0m 926ms/step - accuracy: 0.8254 - loss: 0.4081 - val_accuracy: 0.8693 - val_loss: 0.2976\n",
      "Epoch 11/25\n",
      "\u001b[1m567/567\u001b[0m \u001b[32m━━━━━━━━━━━━━━━━━━━━\u001b[0m\u001b[37m\u001b[0m \u001b[1m535s\u001b[0m 944ms/step - accuracy: 0.8327 - loss: 0.3950 - val_accuracy: 0.9026 - val_loss: 0.2489\n",
      "Epoch 12/25\n",
      "\u001b[1m567/567\u001b[0m \u001b[32m━━━━━━━━━━━━━━━━━━━━\u001b[0m\u001b[37m\u001b[0m \u001b[1m529s\u001b[0m 932ms/step - accuracy: 0.8421 - loss: 0.3730 - val_accuracy: 0.9212 - val_loss: 0.1967\n",
      "Epoch 13/25\n",
      "\u001b[1m567/567\u001b[0m \u001b[32m━━━━━━━━━━━━━━━━━━━━\u001b[0m\u001b[37m\u001b[0m \u001b[1m532s\u001b[0m 937ms/step - accuracy: 0.8592 - loss: 0.3442 - val_accuracy: 0.9287 - val_loss: 0.1858\n",
      "Epoch 14/25\n",
      "\u001b[1m567/567\u001b[0m \u001b[32m━━━━━━━━━━━━━━━━━━━━\u001b[0m\u001b[37m\u001b[0m \u001b[1m540s\u001b[0m 952ms/step - accuracy: 0.8617 - loss: 0.3314 - val_accuracy: 0.9340 - val_loss: 0.1630\n",
      "Epoch 15/25\n",
      "\u001b[1m567/567\u001b[0m \u001b[32m━━━━━━━━━━━━━━━━━━━━\u001b[0m\u001b[37m\u001b[0m \u001b[1m530s\u001b[0m 934ms/step - accuracy: 0.8723 - loss: 0.3112 - val_accuracy: 0.9068 - val_loss: 0.2332\n",
      "Epoch 16/25\n",
      "\u001b[1m567/567\u001b[0m \u001b[32m━━━━━━━━━━━━━━━━━━━━\u001b[0m\u001b[37m\u001b[0m \u001b[1m534s\u001b[0m 940ms/step - accuracy: 0.8759 - loss: 0.3055 - val_accuracy: 0.9550 - val_loss: 0.1171\n",
      "Epoch 17/25\n",
      "\u001b[1m567/567\u001b[0m \u001b[32m━━━━━━━━━━━━━━━━━━━━\u001b[0m\u001b[37m\u001b[0m \u001b[1m537s\u001b[0m 947ms/step - accuracy: 0.8861 - loss: 0.2790 - val_accuracy: 0.9137 - val_loss: 0.2152\n",
      "Epoch 18/25\n",
      "\u001b[1m567/567\u001b[0m \u001b[32m━━━━━━━━━━━━━━━━━━━━\u001b[0m\u001b[37m\u001b[0m \u001b[1m520s\u001b[0m 916ms/step - accuracy: 0.8844 - loss: 0.2820 - val_accuracy: 0.9484 - val_loss: 0.1343\n",
      "Epoch 19/25\n",
      "\u001b[1m567/567\u001b[0m \u001b[32m━━━━━━━━━━━━━━━━━━━━\u001b[0m\u001b[37m\u001b[0m \u001b[1m523s\u001b[0m 923ms/step - accuracy: 0.8901 - loss: 0.2750 - val_accuracy: 0.9401 - val_loss: 0.1613\n",
      "Epoch 20/25\n",
      "\u001b[1m567/567\u001b[0m \u001b[32m━━━━━━━━━━━━━━━━━━━━\u001b[0m\u001b[37m\u001b[0m \u001b[1m539s\u001b[0m 951ms/step - accuracy: 0.8907 - loss: 0.2636 - val_accuracy: 0.9479 - val_loss: 0.1305\n",
      "Epoch 21/25\n",
      "\u001b[1m567/567\u001b[0m \u001b[32m━━━━━━━━━━━━━━━━━━━━\u001b[0m\u001b[37m\u001b[0m \u001b[1m521s\u001b[0m 918ms/step - accuracy: 0.8933 - loss: 0.2611 - val_accuracy: 0.9314 - val_loss: 0.1804\n",
      "Epoch 22/25\n",
      "\u001b[1m567/567\u001b[0m \u001b[32m━━━━━━━━━━━━━━━━━━━━\u001b[0m\u001b[37m\u001b[0m \u001b[1m529s\u001b[0m 933ms/step - accuracy: 0.9008 - loss: 0.2459 - val_accuracy: 0.9626 - val_loss: 0.1016\n",
      "Epoch 23/25\n",
      "\u001b[1m567/567\u001b[0m \u001b[32m━━━━━━━━━━━━━━━━━━━━\u001b[0m\u001b[37m\u001b[0m \u001b[1m540s\u001b[0m 953ms/step - accuracy: 0.9067 - loss: 0.2388 - val_accuracy: 0.9459 - val_loss: 0.1391\n",
      "Epoch 24/25\n",
      "\u001b[1m567/567\u001b[0m \u001b[32m━━━━━━━━━━━━━━━━━━━━\u001b[0m\u001b[37m\u001b[0m \u001b[1m521s\u001b[0m 918ms/step - accuracy: 0.9066 - loss: 0.2304 - val_accuracy: 0.9611 - val_loss: 0.0976\n",
      "Epoch 25/25\n",
      "\u001b[1m567/567\u001b[0m \u001b[32m━━━━━━━━━━━━━━━━━━━━\u001b[0m\u001b[37m\u001b[0m \u001b[1m530s\u001b[0m 934ms/step - accuracy: 0.9119 - loss: 0.2188 - val_accuracy: 0.9756 - val_loss: 0.0729\n"
     ]
    },
    {
     "data": {
      "text/plain": [
       "<keras.src.callbacks.history.History at 0x1d58501c890>"
      ]
     },
     "execution_count": 55,
     "metadata": {},
     "output_type": "execute_result"
    }
   ],
   "source": [
    "#training the cnn on the training set and evaluating it on the test set\n",
    "cnn.fit(x=training_set,validation_data=test_set,epochs=25)"
   ]
  },
  {
   "cell_type": "code",
   "execution_count": 67,
   "id": "251d10be-fb3f-4c78-9111-311ec5bea92a",
   "metadata": {},
   "outputs": [],
   "source": [
    "cnn.save('cnn_model.keras')  # Saves in the recommended Keras format\n"
   ]
  },
  {
   "cell_type": "code",
   "execution_count": 69,
   "id": "a4a2e6a2-c3eb-422d-8629-b03b00cb1d5b",
   "metadata": {},
   "outputs": [
    {
     "name": "stdout",
     "output_type": "stream",
     "text": [
      "True\n"
     ]
    }
   ],
   "source": [
    "import os\n",
    "print(os.path.exists('cnn_model.h5'))  # Should return True\n"
   ]
  },
  {
   "cell_type": "code",
   "execution_count": 63,
   "id": "a2ba77f8-4017-48e9-a1f8-35458ed9ada6",
   "metadata": {},
   "outputs": [
    {
     "name": "stdout",
     "output_type": "stream",
     "text": [
      "C:\\Users\\vishn\n"
     ]
    }
   ],
   "source": [
    "import os\n",
    "print(os.getcwd())\n"
   ]
  },
  {
   "cell_type": "code",
   "execution_count": 21,
   "id": "83fdb298-f968-4f13-8e5a-fbf3339645be",
   "metadata": {},
   "outputs": [
    {
     "name": "stdout",
     "output_type": "stream",
     "text": [
      "Predicted class: No Demented\n"
     ]
    }
   ],
   "source": [
    "#inference(testing on single image)\n",
    "import tensorflow as tf\n",
    "import numpy as np\n",
    "from tensorflow.keras.preprocessing.image import load_img, img_to_array\n",
    "\n",
    "# Load your trained model\n",
    "model = tf.keras.models.load_model('cnn_model.h5', compile=False)\n",
    "\n",
    "# Function to preprocess a single image\n",
    "def preprocess_image(img_path):\n",
    "    img = load_img(img_path, target_size=(128, 128))\n",
    "    x = img_to_array(img)\n",
    "    x = x / 255.0\n",
    "    x = np.expand_dims(x, axis=0)\n",
    "    return x\n",
    "\n",
    "# Function to make predictions (avoiding retracing)\n",
    "@tf.function(reduce_retracing=True)\n",
    "def predict_function(model, x):\n",
    "    return model(x)\n",
    "\n",
    "# Test the model with an image\n",
    "image_path = r\"V:\\\\projects\\\\AlzheimerDiseaseClassification\\\\OriginalDataset\\\\NonDemented\\\\t3.jpg\"\n",
    "x = preprocess_image(image_path)\n",
    "\n",
    "# Make predictions\n",
    "prediction = predict_function(model, x)\n",
    "predicted_class_index = np.argmax(prediction)\n",
    "\n",
    "# Class labels\n",
    "class_labels = ['Mild Demented', 'Moderate Demented', 'No Demented', 'Very Mild Demented']\n",
    "\n",
    "# Print the predicted class\n",
    "print('Predicted class:', class_labels[predicted_class_index])\n"
   ]
  },
  {
   "cell_type": "code",
   "execution_count": null,
   "id": "5baf220a-b80a-4fc2-a49d-a2b9ae8909d8",
   "metadata": {},
   "outputs": [],
   "source": []
  }
 ],
 "metadata": {
  "kernelspec": {
   "display_name": "Python 3 (ipykernel)",
   "language": "python",
   "name": "python3"
  },
  "language_info": {
   "codemirror_mode": {
    "name": "ipython",
    "version": 3
   },
   "file_extension": ".py",
   "mimetype": "text/x-python",
   "name": "python",
   "nbconvert_exporter": "python",
   "pygments_lexer": "ipython3",
   "version": "3.12.7"
  }
 },
 "nbformat": 4,
 "nbformat_minor": 5
}
