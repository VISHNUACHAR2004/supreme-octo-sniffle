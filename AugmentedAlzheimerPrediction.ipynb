{
 "cells": [
  {
   "cell_type": "code",
   "execution_count": 4,
   "id": "fe34e82b-4465-4a00-8164-4a9b9f12d0af",
   "metadata": {},
   "outputs": [
    {
     "name": "stderr",
     "output_type": "stream",
     "text": [
      "ERROR: Could not find a version that satisfies the requirement tensorflow (from versions: none)\n",
      "ERROR: No matching distribution found for tensorflow\n"
     ]
    }
   ],
   "source": [
    "!pip install tensorflow"
   ]
  },
  {
   "cell_type": "code",
   "execution_count": 1,
   "id": "e5e53ca8-1b82-41df-9ed0-9d741febce3d",
   "metadata": {},
   "outputs": [],
   "source": [
    "import tensorflow as tf\n",
    "from tensorflow.keras.preprocessing.image import ImageDataGenerator"
   ]
  },
  {
   "cell_type": "code",
   "execution_count": 2,
   "id": "8f08c87e-015b-4882-adc5-c84e16ddea14",
   "metadata": {},
   "outputs": [
    {
     "data": {
      "text/plain": [
       "'2.18.0'"
      ]
     },
     "execution_count": 2,
     "metadata": {},
     "output_type": "execute_result"
    }
   ],
   "source": [
    "tf.__version__"
   ]
  },
  {
   "cell_type": "code",
   "execution_count": 3,
   "id": "7837fdb5-991b-4447-a247-359fbf47ed53",
   "metadata": {},
   "outputs": [
    {
     "name": "stdout",
     "output_type": "stream",
     "text": [
      "True\n"
     ]
    }
   ],
   "source": [
    "import os\n",
    "print(os.path.exists(\"V:\\projects\\AlzheimerDiseaseClassification\\AugmentedAlzheimerDataset\"))\n"
   ]
  },
  {
   "cell_type": "code",
   "execution_count": 4,
   "id": "060ba80e-aeea-409c-876a-5d177a7a8ec8",
   "metadata": {},
   "outputs": [
    {
     "name": "stdout",
     "output_type": "stream",
     "text": [
      "Found 33984 images belonging to 4 classes.\n"
     ]
    }
   ],
   "source": [
    "train_datagen=ImageDataGenerator(\n",
    "    rescale=1./255,\n",
    "    shear_range=0.2,\n",
    "    zoom_range=0.2,\n",
    "    horizontal_flip=True\n",
    ")\n",
    "training_set=train_datagen.flow_from_directory(\n",
    "    \"V:\\projects\\AlzheimerDiseaseClassification\\AugmentedAlzheimerDataset\",\n",
    "    target_size=(128,128),\n",
    "    batch_size=60,\n",
    "    class_mode='categorical'\n",
    ")"
   ]
  },
  {
   "cell_type": "code",
   "execution_count": 5,
   "id": "1615363b-90ff-4acb-91c3-a30e22c8c735",
   "metadata": {},
   "outputs": [
    {
     "data": {
      "text/plain": [
       "{'MildDemented': 0,\n",
       " 'ModerateDemented': 1,\n",
       " 'NonDemented': 2,\n",
       " 'VeryMildDemented': 3}"
      ]
     },
     "execution_count": 5,
     "metadata": {},
     "output_type": "execute_result"
    }
   ],
   "source": [
    "training_set.class_indices"
   ]
  },
  {
   "cell_type": "code",
   "execution_count": 6,
   "id": "0de30b75-37f9-4b70-b57b-9d8ee4c1f433",
   "metadata": {},
   "outputs": [
    {
     "name": "stdout",
     "output_type": "stream",
     "text": [
      "Found 6396 images belonging to 4 classes.\n"
     ]
    }
   ],
   "source": [
    "#preprocessing the test set\n",
    "test_datagen=ImageDataGenerator(rescale=1./255)\n",
    "test_set=test_datagen.flow_from_directory(\n",
    "  \"V:\\projects\\AlzheimerDiseaseClassification\\OriginalDataset\" ,\n",
    "    target_size=(128,128),\n",
    "    batch_size=60,\n",
    "    class_mode='categorical'\n",
    ")"
   ]
  },
  {
   "cell_type": "code",
   "execution_count": 7,
   "id": "dc4b2aac-d348-4616-85aa-d15405573ee7",
   "metadata": {},
   "outputs": [
    {
     "data": {
      "text/plain": [
       "{'MildDemented': 0,\n",
       " 'ModerateDemented': 1,\n",
       " 'NonDemented': 2,\n",
       " 'VeryMildDemented': 3}"
      ]
     },
     "execution_count": 7,
     "metadata": {},
     "output_type": "execute_result"
    }
   ],
   "source": [
    "test_set.class_indices"
   ]
  },
  {
   "cell_type": "code",
   "execution_count": 8,
   "id": "826764b9-cc72-4055-a3a2-4ee807804b8c",
   "metadata": {},
   "outputs": [],
   "source": [
    "#building the CNN\n",
    "cnn=tf.keras.models.Sequential()"
   ]
  },
  {
   "cell_type": "code",
   "execution_count": 9,
   "id": "0392a54c-7395-48c1-8884-3c9bbee8de38",
   "metadata": {},
   "outputs": [
    {
     "name": "stderr",
     "output_type": "stream",
     "text": [
      "v:\\projects\\alzheimer_developing\\alz\\Lib\\site-packages\\keras\\src\\layers\\convolutional\\base_conv.py:107: UserWarning: Do not pass an `input_shape`/`input_dim` argument to a layer. When using Sequential models, prefer using an `Input(shape)` object as the first layer in the model instead.\n",
      "  super().__init__(activity_regularizer=activity_regularizer, **kwargs)\n"
     ]
    }
   ],
   "source": [
    "#Step1: Convolution\n",
    "cnn.add(tf.keras.layers.Conv2D(filters=32,kernel_size=5,activation='relu',input_shape=[128,128,3]))\n",
    "#step2: Pooling\n",
    "cnn.add(tf.keras.layers.MaxPool2D(pool_size=3,strides=2))"
   ]
  },
  {
   "cell_type": "code",
   "execution_count": 10,
   "id": "6faa1ac3-1fec-452d-8726-182d7f762053",
   "metadata": {},
   "outputs": [],
   "source": [
    "#adding second layer\n",
    "#Step1: Convolution\n",
    "cnn.add(tf.keras.layers.Conv2D(filters=60,kernel_size=5,activation='relu'))\n",
    "#step2: Pooling\n",
    "cnn.add(tf.keras.layers.MaxPool2D(pool_size=3,strides=2))"
   ]
  },
  {
   "cell_type": "code",
   "execution_count": 11,
   "id": "ee9d9663-7537-4b48-810d-18ba23e7ea9f",
   "metadata": {},
   "outputs": [],
   "source": [
    "#step3: Flattening\n",
    "cnn.add(tf.keras.layers.Flatten())"
   ]
  },
  {
   "cell_type": "code",
   "execution_count": 12,
   "id": "54401088-7b38-447d-b51a-df2d16418ae9",
   "metadata": {},
   "outputs": [],
   "source": [
    "#step4: Full connection\n",
    "cnn.add(tf.keras.layers.Dense(units=128,activation='relu'))"
   ]
  },
  {
   "cell_type": "code",
   "execution_count": 13,
   "id": "94e99774-56d1-465f-a040-0057bc423c63",
   "metadata": {},
   "outputs": [],
   "source": [
    "#step5: output layer\n",
    "cnn.add(tf.keras.layers.Dense(units=4,activation='softmax'))"
   ]
  },
  {
   "cell_type": "code",
   "execution_count": 14,
   "id": "594bab85-2507-4cc8-bda1-8488ae4e6420",
   "metadata": {},
   "outputs": [],
   "source": [
    "#Part2: training the CNN"
   ]
  },
  {
   "cell_type": "code",
   "execution_count": 15,
   "id": "5a0656ea-ca20-4119-94d3-4d16fbeeb718",
   "metadata": {},
   "outputs": [],
   "source": [
    "#compiling the cnn\n",
    "cnn.compile(optimizer='adam',loss='categorical_crossentropy',metrics=['accuracy'])"
   ]
  },
  {
   "cell_type": "code",
   "execution_count": 17,
   "id": "26aecc64-7165-4ae6-a84c-1240e30225e2",
   "metadata": {},
   "outputs": [
    {
     "name": "stdout",
     "output_type": "stream",
     "text": [
      "Collecting scipy\n",
      "  Downloading scipy-1.15.2-cp311-cp311-win_amd64.whl.metadata (60 kB)\n",
      "Requirement already satisfied: numpy<2.5,>=1.23.5 in v:\\projects\\alzheimer_developing\\alz\\lib\\site-packages (from scipy) (2.0.2)\n",
      "Downloading scipy-1.15.2-cp311-cp311-win_amd64.whl (41.2 MB)\n",
      "   ---------------------------------------- 0.0/41.2 MB ? eta -:--:--\n",
      "   - -------------------------------------- 1.3/41.2 MB 8.4 MB/s eta 0:00:05\n",
      "   --- ------------------------------------ 3.1/41.2 MB 8.0 MB/s eta 0:00:05\n",
      "   ---- ----------------------------------- 5.0/41.2 MB 8.2 MB/s eta 0:00:05\n",
      "   ----- ---------------------------------- 6.0/41.2 MB 7.7 MB/s eta 0:00:05\n",
      "   ------- -------------------------------- 7.3/41.2 MB 7.3 MB/s eta 0:00:05\n",
      "   -------- ------------------------------- 8.7/41.2 MB 7.1 MB/s eta 0:00:05\n",
      "   --------- ------------------------------ 10.2/41.2 MB 7.2 MB/s eta 0:00:05\n",
      "   ----------- ---------------------------- 11.8/41.2 MB 7.3 MB/s eta 0:00:05\n",
      "   ------------ --------------------------- 13.4/41.2 MB 7.2 MB/s eta 0:00:04\n",
      "   -------------- ------------------------- 14.9/41.2 MB 7.2 MB/s eta 0:00:04\n",
      "   --------------- ------------------------ 16.3/41.2 MB 7.2 MB/s eta 0:00:04\n",
      "   ----------------- ---------------------- 17.8/41.2 MB 7.2 MB/s eta 0:00:04\n",
      "   ------------------ --------------------- 19.1/41.2 MB 7.2 MB/s eta 0:00:04\n",
      "   ------------------- -------------------- 19.7/41.2 MB 6.8 MB/s eta 0:00:04\n",
      "   ------------------- -------------------- 19.9/41.2 MB 6.4 MB/s eta 0:00:04\n",
      "   ------------------- -------------------- 20.4/41.2 MB 6.3 MB/s eta 0:00:04\n",
      "   -------------------- ------------------- 21.0/41.2 MB 6.0 MB/s eta 0:00:04\n",
      "   --------------------- ------------------ 21.8/41.2 MB 5.9 MB/s eta 0:00:04\n",
      "   --------------------- ------------------ 22.0/41.2 MB 5.7 MB/s eta 0:00:04\n",
      "   ---------------------- ----------------- 23.1/41.2 MB 5.6 MB/s eta 0:00:04\n",
      "   ----------------------- ---------------- 23.9/41.2 MB 5.5 MB/s eta 0:00:04\n",
      "   ----------------------- ---------------- 24.6/41.2 MB 5.4 MB/s eta 0:00:04\n",
      "   ------------------------ --------------- 25.2/41.2 MB 5.3 MB/s eta 0:00:04\n",
      "   ------------------------- -------------- 26.0/41.2 MB 5.2 MB/s eta 0:00:03\n",
      "   ------------------------- -------------- 26.5/41.2 MB 5.2 MB/s eta 0:00:03\n",
      "   -------------------------- ------------- 27.3/41.2 MB 5.1 MB/s eta 0:00:03\n",
      "   --------------------------- ------------ 28.0/41.2 MB 5.1 MB/s eta 0:00:03\n",
      "   --------------------------- ------------ 28.8/41.2 MB 5.0 MB/s eta 0:00:03\n",
      "   ---------------------------- ----------- 29.6/41.2 MB 4.9 MB/s eta 0:00:03\n",
      "   ----------------------------- ---------- 30.1/41.2 MB 4.9 MB/s eta 0:00:03\n",
      "   ----------------------------- ---------- 30.7/41.2 MB 4.8 MB/s eta 0:00:03\n",
      "   ------------------------------ --------- 31.7/41.2 MB 4.8 MB/s eta 0:00:02\n",
      "   ------------------------------- -------- 32.0/41.2 MB 4.8 MB/s eta 0:00:02\n",
      "   ------------------------------- -------- 32.8/41.2 MB 4.7 MB/s eta 0:00:02\n",
      "   -------------------------------- ------- 33.0/41.2 MB 4.6 MB/s eta 0:00:02\n",
      "   -------------------------------- ------- 33.6/41.2 MB 4.5 MB/s eta 0:00:02\n",
      "   -------------------------------- ------- 33.8/41.2 MB 4.4 MB/s eta 0:00:02\n",
      "   --------------------------------- ------ 34.6/41.2 MB 4.4 MB/s eta 0:00:02\n",
      "   ---------------------------------- ----- 35.7/41.2 MB 4.4 MB/s eta 0:00:02\n",
      "   ----------------------------------- ---- 37.0/41.2 MB 4.5 MB/s eta 0:00:01\n",
      "   ------------------------------------- -- 38.3/41.2 MB 4.5 MB/s eta 0:00:01\n",
      "   -------------------------------------- - 39.8/41.2 MB 4.6 MB/s eta 0:00:01\n",
      "   ---------------------------------------  41.2/41.2 MB 4.6 MB/s eta 0:00:01\n",
      "   ---------------------------------------- 41.2/41.2 MB 4.5 MB/s eta 0:00:00\n",
      "Installing collected packages: scipy\n",
      "Successfully installed scipy-1.15.2\n",
      "Note: you may need to restart the kernel to use updated packages.\n"
     ]
    }
   ],
   "source": [
    "pip install scipy"
   ]
  },
  {
   "cell_type": "code",
   "execution_count": 20,
   "id": "197bcfbc-71bd-4b02-a6b9-b4399dc772c1",
   "metadata": {},
   "outputs": [
    {
     "name": "stdout",
     "output_type": "stream",
     "text": [
      "Requirement already satisfied: Pillow in v:\\projects\\alzheimer_developing\\alz\\lib\\site-packages (11.1.0)\n"
     ]
    }
   ],
   "source": [
    "import sys\n",
    "!{sys.executable} -m pip install Pillow"
   ]
  },
  {
   "cell_type": "code",
   "execution_count": 16,
   "id": "11a70003-9f21-40b3-8000-be584c248655",
   "metadata": {
    "scrolled": true
   },
   "outputs": [
    {
     "name": "stderr",
     "output_type": "stream",
     "text": [
      "v:\\projects\\alzheimer_developing\\alz\\Lib\\site-packages\\keras\\src\\trainers\\data_adapters\\py_dataset_adapter.py:121: UserWarning: Your `PyDataset` class should call `super().__init__(**kwargs)` in its constructor. `**kwargs` can include `workers`, `use_multiprocessing`, `max_queue_size`. Do not pass these arguments to `fit()`, as they will be ignored.\n",
      "  self._warn_if_super_not_called()\n"
     ]
    },
    {
     "name": "stdout",
     "output_type": "stream",
     "text": [
      "Epoch 1/25\n",
      "\u001b[1m567/567\u001b[0m \u001b[32m━━━━━━━━━━━━━━━━━━━━\u001b[0m\u001b[37m\u001b[0m \u001b[1m0s\u001b[0m 896ms/step - accuracy: 0.4402 - loss: 1.2532  "
     ]
    },
    {
     "name": "stderr",
     "output_type": "stream",
     "text": [
      "v:\\projects\\alzheimer_developing\\alz\\Lib\\site-packages\\keras\\src\\trainers\\data_adapters\\py_dataset_adapter.py:121: UserWarning: Your `PyDataset` class should call `super().__init__(**kwargs)` in its constructor. `**kwargs` can include `workers`, `use_multiprocessing`, `max_queue_size`. Do not pass these arguments to `fit()`, as they will be ignored.\n",
      "  self._warn_if_super_not_called()\n"
     ]
    },
    {
     "name": "stdout",
     "output_type": "stream",
     "text": [
      "\u001b[1m567/567\u001b[0m \u001b[32m━━━━━━━━━━━━━━━━━━━━\u001b[0m\u001b[37m\u001b[0m \u001b[1m551s\u001b[0m 970ms/step - accuracy: 0.4403 - loss: 1.2529 - val_accuracy: 0.6174 - val_loss: 0.8230\n",
      "Epoch 2/25\n",
      "\u001b[1m567/567\u001b[0m \u001b[32m━━━━━━━━━━━━━━━━━━━━\u001b[0m\u001b[37m\u001b[0m \u001b[1m797s\u001b[0m 1s/step - accuracy: 0.6185 - loss: 0.8295 - val_accuracy: 0.6377 - val_loss: 0.7799\n",
      "Epoch 3/25\n",
      "\u001b[1m567/567\u001b[0m \u001b[32m━━━━━━━━━━━━━━━━━━━━\u001b[0m\u001b[37m\u001b[0m \u001b[1m785s\u001b[0m 1s/step - accuracy: 0.6838 - loss: 0.7027 - val_accuracy: 0.6487 - val_loss: 0.8091\n",
      "Epoch 4/25\n",
      "\u001b[1m567/567\u001b[0m \u001b[32m━━━━━━━━━━━━━━━━━━━━\u001b[0m\u001b[37m\u001b[0m \u001b[1m786s\u001b[0m 1s/step - accuracy: 0.7194 - loss: 0.6236 - val_accuracy: 0.7750 - val_loss: 0.5010\n",
      "Epoch 5/25\n",
      "\u001b[1m567/567\u001b[0m \u001b[32m━━━━━━━━━━━━━━━━━━━━\u001b[0m\u001b[37m\u001b[0m \u001b[1m788s\u001b[0m 1s/step - accuracy: 0.7508 - loss: 0.5652 - val_accuracy: 0.7766 - val_loss: 0.4862\n",
      "Epoch 6/25\n",
      "\u001b[1m567/567\u001b[0m \u001b[32m━━━━━━━━━━━━━━━━━━━━\u001b[0m\u001b[37m\u001b[0m \u001b[1m788s\u001b[0m 1s/step - accuracy: 0.7808 - loss: 0.5043 - val_accuracy: 0.7389 - val_loss: 0.6106\n",
      "Epoch 7/25\n",
      "\u001b[1m567/567\u001b[0m \u001b[32m━━━━━━━━━━━━━━━━━━━━\u001b[0m\u001b[37m\u001b[0m \u001b[1m780s\u001b[0m 1s/step - accuracy: 0.8028 - loss: 0.4603 - val_accuracy: 0.8659 - val_loss: 0.3191\n",
      "Epoch 8/25\n",
      "\u001b[1m567/567\u001b[0m \u001b[32m━━━━━━━━━━━━━━━━━━━━\u001b[0m\u001b[37m\u001b[0m \u001b[1m796s\u001b[0m 1s/step - accuracy: 0.8191 - loss: 0.4240 - val_accuracy: 0.8627 - val_loss: 0.3126\n",
      "Epoch 9/25\n",
      "\u001b[1m567/567\u001b[0m \u001b[32m━━━━━━━━━━━━━━━━━━━━\u001b[0m\u001b[37m\u001b[0m \u001b[1m777s\u001b[0m 1s/step - accuracy: 0.8319 - loss: 0.3933 - val_accuracy: 0.8318 - val_loss: 0.4189\n",
      "Epoch 10/25\n",
      "\u001b[1m567/567\u001b[0m \u001b[32m━━━━━━━━━━━━━━━━━━━━\u001b[0m\u001b[37m\u001b[0m \u001b[1m779s\u001b[0m 1s/step - accuracy: 0.8487 - loss: 0.3646 - val_accuracy: 0.9217 - val_loss: 0.1986\n",
      "Epoch 11/25\n",
      "\u001b[1m567/567\u001b[0m \u001b[32m━━━━━━━━━━━━━━━━━━━━\u001b[0m\u001b[37m\u001b[0m \u001b[1m785s\u001b[0m 1s/step - accuracy: 0.8567 - loss: 0.3444 - val_accuracy: 0.8962 - val_loss: 0.2492\n",
      "Epoch 12/25\n",
      "\u001b[1m567/567\u001b[0m \u001b[32m━━━━━━━━━━━━━━━━━━━━\u001b[0m\u001b[37m\u001b[0m \u001b[1m782s\u001b[0m 1s/step - accuracy: 0.8626 - loss: 0.3258 - val_accuracy: 0.9020 - val_loss: 0.2226\n",
      "Epoch 13/25\n",
      "\u001b[1m567/567\u001b[0m \u001b[32m━━━━━━━━━━━━━━━━━━━━\u001b[0m\u001b[37m\u001b[0m \u001b[1m786s\u001b[0m 1s/step - accuracy: 0.8718 - loss: 0.3106 - val_accuracy: 0.9351 - val_loss: 0.1635\n",
      "Epoch 14/25\n",
      "\u001b[1m567/567\u001b[0m \u001b[32m━━━━━━━━━━━━━━━━━━━━\u001b[0m\u001b[37m\u001b[0m \u001b[1m16358s\u001b[0m 29s/step - accuracy: 0.8863 - loss: 0.2859 - val_accuracy: 0.9267 - val_loss: 0.1806\n",
      "Epoch 15/25\n",
      "\u001b[1m567/567\u001b[0m \u001b[32m━━━━━━━━━━━━━━━━━━━━\u001b[0m\u001b[37m\u001b[0m \u001b[1m392s\u001b[0m 691ms/step - accuracy: 0.8795 - loss: 0.2900 - val_accuracy: 0.9354 - val_loss: 0.1615\n",
      "Epoch 16/25\n",
      "\u001b[1m567/567\u001b[0m \u001b[32m━━━━━━━━━━━━━━━━━━━━\u001b[0m\u001b[37m\u001b[0m \u001b[1m440s\u001b[0m 775ms/step - accuracy: 0.8896 - loss: 0.2698 - val_accuracy: 0.9575 - val_loss: 0.1119\n",
      "Epoch 17/25\n",
      "\u001b[1m567/567\u001b[0m \u001b[32m━━━━━━━━━━━━━━━━━━━━\u001b[0m\u001b[37m\u001b[0m \u001b[1m435s\u001b[0m 767ms/step - accuracy: 0.8963 - loss: 0.2583 - val_accuracy: 0.9386 - val_loss: 0.1531\n",
      "Epoch 18/25\n",
      "\u001b[1m567/567\u001b[0m \u001b[32m━━━━━━━━━━━━━━━━━━━━\u001b[0m\u001b[37m\u001b[0m \u001b[1m431s\u001b[0m 760ms/step - accuracy: 0.8988 - loss: 0.2471 - val_accuracy: 0.9540 - val_loss: 0.1263\n",
      "Epoch 19/25\n",
      "\u001b[1m567/567\u001b[0m \u001b[32m━━━━━━━━━━━━━━━━━━━━\u001b[0m\u001b[37m\u001b[0m \u001b[1m432s\u001b[0m 761ms/step - accuracy: 0.9041 - loss: 0.2415 - val_accuracy: 0.9323 - val_loss: 0.1729\n",
      "Epoch 20/25\n",
      "\u001b[1m567/567\u001b[0m \u001b[32m━━━━━━━━━━━━━━━━━━━━\u001b[0m\u001b[37m\u001b[0m \u001b[1m431s\u001b[0m 760ms/step - accuracy: 0.9059 - loss: 0.2319 - val_accuracy: 0.9584 - val_loss: 0.1052\n",
      "Epoch 21/25\n",
      "\u001b[1m567/567\u001b[0m \u001b[32m━━━━━━━━━━━━━━━━━━━━\u001b[0m\u001b[37m\u001b[0m \u001b[1m224117s\u001b[0m 396s/step - accuracy: 0.9136 - loss: 0.2189 - val_accuracy: 0.9420 - val_loss: 0.1600\n",
      "Epoch 22/25\n",
      "\u001b[1m567/567\u001b[0m \u001b[32m━━━━━━━━━━━━━━━━━━━━\u001b[0m\u001b[37m\u001b[0m \u001b[1m813s\u001b[0m 1s/step - accuracy: 0.9134 - loss: 0.2181 - val_accuracy: 0.9559 - val_loss: 0.1138\n",
      "Epoch 23/25\n",
      "\u001b[1m567/567\u001b[0m \u001b[32m━━━━━━━━━━━━━━━━━━━━\u001b[0m\u001b[37m\u001b[0m \u001b[1m555s\u001b[0m 977ms/step - accuracy: 0.9181 - loss: 0.2056 - val_accuracy: 0.9525 - val_loss: 0.1230\n",
      "Epoch 24/25\n",
      "\u001b[1m567/567\u001b[0m \u001b[32m━━━━━━━━━━━━━━━━━━━━\u001b[0m\u001b[37m\u001b[0m \u001b[1m362s\u001b[0m 639ms/step - accuracy: 0.9206 - loss: 0.1971 - val_accuracy: 0.9587 - val_loss: 0.1070\n",
      "Epoch 25/25\n",
      "\u001b[1m567/567\u001b[0m \u001b[32m━━━━━━━━━━━━━━━━━━━━\u001b[0m\u001b[37m\u001b[0m \u001b[1m386s\u001b[0m 680ms/step - accuracy: 0.9189 - loss: 0.2025 - val_accuracy: 0.9722 - val_loss: 0.0761\n"
     ]
    },
    {
     "data": {
      "text/plain": [
       "<keras.src.callbacks.history.History at 0x2a833b55990>"
      ]
     },
     "execution_count": 16,
     "metadata": {},
     "output_type": "execute_result"
    }
   ],
   "source": [
    "#training the cnn on the training set and evaluating it on the test set\n",
    "cnn.fit(x=training_set,validation_data=test_set,epochs=25)"
   ]
  },
  {
   "cell_type": "code",
   "execution_count": 20,
   "id": "251d10be-fb3f-4c78-9111-311ec5bea92a",
   "metadata": {},
   "outputs": [
    {
     "name": "stderr",
     "output_type": "stream",
     "text": [
      "WARNING:absl:You are saving your model as an HDF5 file via `model.save()` or `keras.saving.save_model(model)`. This file format is considered legacy. We recommend using instead the native Keras format, e.g. `model.save('my_model.keras')` or `keras.saving.save_model(model, 'my_model.keras')`. \n"
     ]
    }
   ],
   "source": [
    "cnn.save('cnn_model.h5')  # Saves in the recommended Keras format\n"
   ]
  },
  {
   "cell_type": "code",
   "execution_count": 21,
   "id": "a4a2e6a2-c3eb-422d-8629-b03b00cb1d5b",
   "metadata": {},
   "outputs": [
    {
     "name": "stdout",
     "output_type": "stream",
     "text": [
      "True\n"
     ]
    }
   ],
   "source": [
    "import os\n",
    "print(os.path.exists('cnn_model.h5'))  # Should return True\n"
   ]
  },
  {
   "cell_type": "code",
   "execution_count": 22,
   "id": "a2ba77f8-4017-48e9-a1f8-35458ed9ada6",
   "metadata": {},
   "outputs": [
    {
     "name": "stdout",
     "output_type": "stream",
     "text": [
      "V:\\projects\\Alzheimer_developing\n"
     ]
    }
   ],
   "source": [
    "import os\n",
    "print(os.getcwd())\n"
   ]
  },
  {
   "cell_type": "code",
   "execution_count": 24,
   "id": "83fdb298-f968-4f13-8e5a-fbf3339645be",
   "metadata": {},
   "outputs": [
    {
     "name": "stdout",
     "output_type": "stream",
     "text": [
      "Predicted class: Very Mild Demented\n"
     ]
    }
   ],
   "source": [
    "#inference(testing on single image)\n",
    "import tensorflow as tf\n",
    "import numpy as np\n",
    "from tensorflow.keras.preprocessing.image import load_img, img_to_array\n",
    "\n",
    "# Load your trained model\n",
    "model = tf.keras.models.load_model('cnn_model.h5', compile=False)\n",
    "\n",
    "# Function to preprocess a single image\n",
    "def preprocess_image(img_path):\n",
    "    img = load_img(img_path, target_size=(128, 128))\n",
    "    x = img_to_array(img)\n",
    "    x = x / 255.0\n",
    "    x = np.expand_dims(x, axis=0)\n",
    "    return x\n",
    "\n",
    "# Function to make predictions (avoiding retracing)\n",
    "@tf.function(reduce_retracing=True)\n",
    "def predict_function(model, x):\n",
    "    return model(x)\n",
    "\n",
    "# Test the model with an image\n",
    "image_path = r\"V:\\\\projects\\\\AlzheimerDiseaseClassification\\\\OriginalDataset\\\\VeryMildDemented\\\\1.jpg\"\n",
    "x = preprocess_image(image_path)\n",
    "\n",
    "# Make predictions\n",
    "prediction = predict_function(model, x)\n",
    "predicted_class_index = np.argmax(prediction)\n",
    "\n",
    "# Class labels\n",
    "class_labels = ['Mild Demented', 'Moderate Demented', 'No Demented', 'Very Mild Demented']\n",
    "\n",
    "# Print the predicted class\n",
    "print('Predicted class:', class_labels[predicted_class_index])\n"
   ]
  },
  {
   "cell_type": "code",
   "execution_count": null,
   "id": "5baf220a-b80a-4fc2-a49d-a2b9ae8909d8",
   "metadata": {},
   "outputs": [],
   "source": []
  }
 ],
 "metadata": {
  "kernelspec": {
   "display_name": "Python 3 (ipykernel)",
   "language": "python",
   "name": "python3"
  },
  "language_info": {
   "codemirror_mode": {
    "name": "ipython",
    "version": 3
   },
   "file_extension": ".py",
   "mimetype": "text/x-python",
   "name": "python",
   "nbconvert_exporter": "python",
   "pygments_lexer": "ipython3",
   "version": "3.11.5"
  }
 },
 "nbformat": 4,
 "nbformat_minor": 5
}
